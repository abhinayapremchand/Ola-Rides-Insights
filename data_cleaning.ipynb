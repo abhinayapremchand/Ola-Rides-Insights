{
 "cells": [
  {
   "cell_type": "markdown",
   "id": "399532ae-5d1f-4dfe-bbcd-893b55c79776",
   "metadata": {},
   "source": [
    "# DATA CLEANING"
   ]
  },
  {
   "cell_type": "code",
   "execution_count": 11,
   "id": "c6752eff-7115-4f8d-a0a5-cf8e9b66228b",
   "metadata": {},
   "outputs": [
    {
     "name": "stdout",
     "output_type": "stream",
     "text": [
      "Requirement already satisfied: pandas in c:\\users\\sharan\\anaconda3\\lib\\site-packages (2.2.2)\n",
      "Requirement already satisfied: numpy in c:\\users\\sharan\\anaconda3\\lib\\site-packages (1.26.4)\n",
      "Requirement already satisfied: python-dateutil>=2.8.2 in c:\\users\\sharan\\anaconda3\\lib\\site-packages (from pandas) (2.9.0.post0)\n",
      "Requirement already satisfied: pytz>=2020.1 in c:\\users\\sharan\\anaconda3\\lib\\site-packages (from pandas) (2024.1)\n",
      "Requirement already satisfied: tzdata>=2022.7 in c:\\users\\sharan\\anaconda3\\lib\\site-packages (from pandas) (2023.3)\n",
      "Requirement already satisfied: six>=1.5 in c:\\users\\sharan\\anaconda3\\lib\\site-packages (from python-dateutil>=2.8.2->pandas) (1.16.0)\n"
     ]
    }
   ],
   "source": [
    "!pip install pandas numpy"
   ]
  },
  {
   "cell_type": "code",
   "execution_count": 12,
   "id": "27ae6019-fa36-431b-a079-6d10efd3e077",
   "metadata": {},
   "outputs": [
    {
     "data": {
      "text/html": [
       "<div>\n",
       "<style scoped>\n",
       "    .dataframe tbody tr th:only-of-type {\n",
       "        vertical-align: middle;\n",
       "    }\n",
       "\n",
       "    .dataframe tbody tr th {\n",
       "        vertical-align: top;\n",
       "    }\n",
       "\n",
       "    .dataframe thead th {\n",
       "        text-align: right;\n",
       "    }\n",
       "</style>\n",
       "<table border=\"1\" class=\"dataframe\">\n",
       "  <thead>\n",
       "    <tr style=\"text-align: right;\">\n",
       "      <th></th>\n",
       "      <th>Date</th>\n",
       "      <th>Time</th>\n",
       "      <th>Booking_ID</th>\n",
       "      <th>Booking_Status</th>\n",
       "      <th>Customer_ID</th>\n",
       "      <th>Vehicle_Type</th>\n",
       "      <th>Pickup_Location</th>\n",
       "      <th>Drop_Location</th>\n",
       "      <th>V_TAT</th>\n",
       "      <th>C_TAT</th>\n",
       "      <th>Canceled_Rides_by_Customer</th>\n",
       "      <th>Canceled_Rides_by_Driver</th>\n",
       "      <th>Incomplete_Rides</th>\n",
       "      <th>Incomplete_Rides_Reason</th>\n",
       "      <th>Booking_Value</th>\n",
       "      <th>Payment_Method</th>\n",
       "      <th>Ride_Distance</th>\n",
       "      <th>Driver_Ratings</th>\n",
       "      <th>Customer_Rating</th>\n",
       "      <th>Vehicle Images</th>\n",
       "    </tr>\n",
       "  </thead>\n",
       "  <tbody>\n",
       "    <tr>\n",
       "      <th>0</th>\n",
       "      <td>2024-07-26 14:00:00</td>\n",
       "      <td>14:00:00</td>\n",
       "      <td>CNR7153255142</td>\n",
       "      <td>Canceled by Driver</td>\n",
       "      <td>CID713523</td>\n",
       "      <td>Prime Sedan</td>\n",
       "      <td>Tumkur Road</td>\n",
       "      <td>RT Nagar</td>\n",
       "      <td>NaN</td>\n",
       "      <td>NaN</td>\n",
       "      <td>NaN</td>\n",
       "      <td>Personal &amp; Car related issue</td>\n",
       "      <td>NaN</td>\n",
       "      <td>NaN</td>\n",
       "      <td>444</td>\n",
       "      <td>NaN</td>\n",
       "      <td>0</td>\n",
       "      <td>NaN</td>\n",
       "      <td>NaN</td>\n",
       "      <td>https://cdn-icons-png.flaticon.com/128/14183/1...</td>\n",
       "    </tr>\n",
       "    <tr>\n",
       "      <th>1</th>\n",
       "      <td>2024-07-25 22:20:00</td>\n",
       "      <td>22:20:00</td>\n",
       "      <td>CNR2940424040</td>\n",
       "      <td>Success</td>\n",
       "      <td>CID225428</td>\n",
       "      <td>Bike</td>\n",
       "      <td>Magadi Road</td>\n",
       "      <td>Varthur</td>\n",
       "      <td>203.0</td>\n",
       "      <td>30.0</td>\n",
       "      <td>NaN</td>\n",
       "      <td>NaN</td>\n",
       "      <td>No</td>\n",
       "      <td>NaN</td>\n",
       "      <td>158</td>\n",
       "      <td>Cash</td>\n",
       "      <td>13</td>\n",
       "      <td>4.1</td>\n",
       "      <td>4.0</td>\n",
       "      <td>https://cdn-icons-png.flaticon.com/128/9983/99...</td>\n",
       "    </tr>\n",
       "    <tr>\n",
       "      <th>2</th>\n",
       "      <td>2024-07-30 19:59:00</td>\n",
       "      <td>19:59:00</td>\n",
       "      <td>CNR2982357879</td>\n",
       "      <td>Success</td>\n",
       "      <td>CID270156</td>\n",
       "      <td>Prime SUV</td>\n",
       "      <td>Sahakar Nagar</td>\n",
       "      <td>Varthur</td>\n",
       "      <td>238.0</td>\n",
       "      <td>130.0</td>\n",
       "      <td>NaN</td>\n",
       "      <td>NaN</td>\n",
       "      <td>No</td>\n",
       "      <td>NaN</td>\n",
       "      <td>386</td>\n",
       "      <td>UPI</td>\n",
       "      <td>40</td>\n",
       "      <td>4.2</td>\n",
       "      <td>4.8</td>\n",
       "      <td>https://cdn-icons-png.flaticon.com/128/9983/99...</td>\n",
       "    </tr>\n",
       "    <tr>\n",
       "      <th>3</th>\n",
       "      <td>2024-07-22 3:15:00</td>\n",
       "      <td>3:15:00</td>\n",
       "      <td>CNR2395710036</td>\n",
       "      <td>Canceled by Customer</td>\n",
       "      <td>CID581320</td>\n",
       "      <td>eBike</td>\n",
       "      <td>HSR Layout</td>\n",
       "      <td>Vijayanagar</td>\n",
       "      <td>NaN</td>\n",
       "      <td>NaN</td>\n",
       "      <td>Driver is not moving towards pickup location</td>\n",
       "      <td>NaN</td>\n",
       "      <td>NaN</td>\n",
       "      <td>NaN</td>\n",
       "      <td>384</td>\n",
       "      <td>NaN</td>\n",
       "      <td>0</td>\n",
       "      <td>NaN</td>\n",
       "      <td>NaN</td>\n",
       "      <td>https://cdn-icons-png.flaticon.com/128/6839/68...</td>\n",
       "    </tr>\n",
       "    <tr>\n",
       "      <th>4</th>\n",
       "      <td>2024-07-02 9:02:00</td>\n",
       "      <td>9:02:00</td>\n",
       "      <td>CNR1797421769</td>\n",
       "      <td>Success</td>\n",
       "      <td>CID939555</td>\n",
       "      <td>Mini</td>\n",
       "      <td>Rajajinagar</td>\n",
       "      <td>Chamarajpet</td>\n",
       "      <td>252.0</td>\n",
       "      <td>80.0</td>\n",
       "      <td>NaN</td>\n",
       "      <td>NaN</td>\n",
       "      <td>No</td>\n",
       "      <td>NaN</td>\n",
       "      <td>822</td>\n",
       "      <td>Credit Card</td>\n",
       "      <td>45</td>\n",
       "      <td>4.0</td>\n",
       "      <td>3.0</td>\n",
       "      <td>https://cdn-icons-png.flaticon.com/128/3202/32...</td>\n",
       "    </tr>\n",
       "  </tbody>\n",
       "</table>\n",
       "</div>"
      ],
      "text/plain": [
       "                  Date      Time     Booking_ID        Booking_Status  \\\n",
       "0  2024-07-26 14:00:00  14:00:00  CNR7153255142    Canceled by Driver   \n",
       "1  2024-07-25 22:20:00  22:20:00  CNR2940424040               Success   \n",
       "2  2024-07-30 19:59:00  19:59:00  CNR2982357879               Success   \n",
       "3   2024-07-22 3:15:00   3:15:00  CNR2395710036  Canceled by Customer   \n",
       "4   2024-07-02 9:02:00   9:02:00  CNR1797421769               Success   \n",
       "\n",
       "  Customer_ID Vehicle_Type Pickup_Location Drop_Location  V_TAT  C_TAT  \\\n",
       "0   CID713523  Prime Sedan     Tumkur Road      RT Nagar    NaN    NaN   \n",
       "1   CID225428         Bike     Magadi Road       Varthur  203.0   30.0   \n",
       "2   CID270156    Prime SUV   Sahakar Nagar       Varthur  238.0  130.0   \n",
       "3   CID581320        eBike      HSR Layout   Vijayanagar    NaN    NaN   \n",
       "4   CID939555         Mini     Rajajinagar   Chamarajpet  252.0   80.0   \n",
       "\n",
       "                     Canceled_Rides_by_Customer      Canceled_Rides_by_Driver  \\\n",
       "0                                           NaN  Personal & Car related issue   \n",
       "1                                           NaN                           NaN   \n",
       "2                                           NaN                           NaN   \n",
       "3  Driver is not moving towards pickup location                           NaN   \n",
       "4                                           NaN                           NaN   \n",
       "\n",
       "  Incomplete_Rides Incomplete_Rides_Reason  Booking_Value Payment_Method  \\\n",
       "0              NaN                     NaN            444            NaN   \n",
       "1               No                     NaN            158           Cash   \n",
       "2               No                     NaN            386            UPI   \n",
       "3              NaN                     NaN            384            NaN   \n",
       "4               No                     NaN            822    Credit Card   \n",
       "\n",
       "   Ride_Distance  Driver_Ratings  Customer_Rating  \\\n",
       "0              0             NaN              NaN   \n",
       "1             13             4.1              4.0   \n",
       "2             40             4.2              4.8   \n",
       "3              0             NaN              NaN   \n",
       "4             45             4.0              3.0   \n",
       "\n",
       "                                      Vehicle Images  \n",
       "0  https://cdn-icons-png.flaticon.com/128/14183/1...  \n",
       "1  https://cdn-icons-png.flaticon.com/128/9983/99...  \n",
       "2  https://cdn-icons-png.flaticon.com/128/9983/99...  \n",
       "3  https://cdn-icons-png.flaticon.com/128/6839/68...  \n",
       "4  https://cdn-icons-png.flaticon.com/128/3202/32...  "
      ]
     },
     "execution_count": 12,
     "metadata": {},
     "output_type": "execute_result"
    }
   ],
   "source": [
    "import pandas as pd\n",
    "\n",
    "df = pd.read_csv(r\"C:\\Users\\sharan\\Documents\\ola_ride_insights\\data\\OLA_DataSet.xlsx - July.csv\")\n",
    "\n",
    "# Display first few rows\n",
    "df.head()\n"
   ]
  },
  {
   "cell_type": "code",
   "execution_count": 13,
   "id": "94b90459-cae1-47b1-94c3-fcad97ca9ea5",
   "metadata": {},
   "outputs": [
    {
     "name": "stdout",
     "output_type": "stream",
     "text": [
      "(103024, 20)\n",
      "<class 'pandas.core.frame.DataFrame'>\n",
      "RangeIndex: 103024 entries, 0 to 103023\n",
      "Data columns (total 20 columns):\n",
      " #   Column                      Non-Null Count   Dtype  \n",
      "---  ------                      --------------   -----  \n",
      " 0   Date                        103024 non-null  object \n",
      " 1   Time                        103024 non-null  object \n",
      " 2   Booking_ID                  103024 non-null  object \n",
      " 3   Booking_Status              103024 non-null  object \n",
      " 4   Customer_ID                 103024 non-null  object \n",
      " 5   Vehicle_Type                103024 non-null  object \n",
      " 6   Pickup_Location             103024 non-null  object \n",
      " 7   Drop_Location               103024 non-null  object \n",
      " 8   V_TAT                       63967 non-null   float64\n",
      " 9   C_TAT                       63967 non-null   float64\n",
      " 10  Canceled_Rides_by_Customer  10499 non-null   object \n",
      " 11  Canceled_Rides_by_Driver    18434 non-null   object \n",
      " 12  Incomplete_Rides            63967 non-null   object \n",
      " 13  Incomplete_Rides_Reason     3926 non-null    object \n",
      " 14  Booking_Value               103024 non-null  int64  \n",
      " 15  Payment_Method              63967 non-null   object \n",
      " 16  Ride_Distance               103024 non-null  int64  \n",
      " 17  Driver_Ratings              63967 non-null   float64\n",
      " 18  Customer_Rating             63967 non-null   float64\n",
      " 19  Vehicle Images              103024 non-null  object \n",
      "dtypes: float64(4), int64(2), object(14)\n",
      "memory usage: 15.7+ MB\n",
      "None\n",
      "['Date', 'Time', 'Booking_ID', 'Booking_Status', 'Customer_ID', 'Vehicle_Type', 'Pickup_Location', 'Drop_Location', 'V_TAT', 'C_TAT', 'Canceled_Rides_by_Customer', 'Canceled_Rides_by_Driver', 'Incomplete_Rides', 'Incomplete_Rides_Reason', 'Booking_Value', 'Payment_Method', 'Ride_Distance', 'Driver_Ratings', 'Customer_Rating', 'Vehicle Images']\n"
     ]
    }
   ],
   "source": [
    "# Getting shape and info\n",
    "print(df.shape)\n",
    "print(df.info())\n",
    "\n",
    "# Summary statistics\n",
    "df.describe()\n",
    "\n",
    "# Check column names\n",
    "print(df.columns.tolist())\n"
   ]
  },
  {
   "cell_type": "code",
   "execution_count": 14,
   "id": "65ff3e56-ab4a-4e74-96c7-fb39bec3a2da",
   "metadata": {},
   "outputs": [
    {
     "name": "stdout",
     "output_type": "stream",
     "text": [
      "Date                              0\n",
      "Time                              0\n",
      "Booking_ID                        0\n",
      "Booking_Status                    0\n",
      "Customer_ID                       0\n",
      "Vehicle_Type                      0\n",
      "Pickup_Location                   0\n",
      "Drop_Location                     0\n",
      "V_TAT                         39057\n",
      "C_TAT                         39057\n",
      "Canceled_Rides_by_Customer    92525\n",
      "Canceled_Rides_by_Driver      84590\n",
      "Incomplete_Rides              39057\n",
      "Incomplete_Rides_Reason       99098\n",
      "Booking_Value                     0\n",
      "Payment_Method                39057\n",
      "Ride_Distance                     0\n",
      "Driver_Ratings                39057\n",
      "Customer_Rating               39057\n",
      "Vehicle Images                    0\n",
      "dtype: int64\n",
      "Duplicates: 0\n"
     ]
    },
    {
     "data": {
      "text/plain": [
       "Date                           40214\n",
       "Time                            1440\n",
       "Booking_ID                    103024\n",
       "Booking_Status                     4\n",
       "Customer_ID                    94544\n",
       "Vehicle_Type                       7\n",
       "Pickup_Location                   50\n",
       "Drop_Location                     50\n",
       "V_TAT                             40\n",
       "C_TAT                             25\n",
       "Canceled_Rides_by_Customer         5\n",
       "Canceled_Rides_by_Driver           4\n",
       "Incomplete_Rides                   2\n",
       "Incomplete_Rides_Reason            3\n",
       "Booking_Value                   2883\n",
       "Payment_Method                     4\n",
       "Ride_Distance                     50\n",
       "Driver_Ratings                    21\n",
       "Customer_Rating                   21\n",
       "Vehicle Images                     7\n",
       "dtype: int64"
      ]
     },
     "execution_count": 14,
     "metadata": {},
     "output_type": "execute_result"
    }
   ],
   "source": [
    "# Missing values\n",
    "print(df.isnull().sum())\n",
    "\n",
    "# Duplicates\n",
    "print(\"Duplicates:\", df.duplicated().sum())\n",
    "\n",
    "# Unique values per column\n",
    "df.nunique()\n"
   ]
  },
  {
   "cell_type": "code",
   "execution_count": 15,
   "id": "38527241-bc84-475b-81eb-2aa690ad13e5",
   "metadata": {
    "scrolled": true
   },
   "outputs": [],
   "source": [
    "# Rename Columns to snake_case:\n",
    "df.columns = df.columns.str.strip().str.lower().str.replace(' ', '_')\n"
   ]
  },
  {
   "cell_type": "code",
   "execution_count": 16,
   "id": "e59bbd7f-9231-4faa-ad00-d098a37e665e",
   "metadata": {},
   "outputs": [],
   "source": [
    "#creating booking_datetime\n",
    "df['booking_datetime'] = pd.to_datetime(df['date'] + ' ' + df['time'], format=\"%Y-%m-%d %H:%M:%S\", errors='coerce')"
   ]
  },
  {
   "cell_type": "code",
   "execution_count": 17,
   "id": "2c2ae81a-74c8-4653-be1e-50025c98f7fb",
   "metadata": {},
   "outputs": [],
   "source": [
    "#dropping columns with high missing values\n",
    "df.drop(['canceled_rides_by_customer', 'canceled_rides_by_driver', 'incomplete_rides_reason'], axis=1, inplace=True)\n"
   ]
  },
  {
   "cell_type": "code",
   "execution_count": null,
   "id": "9b4491e8-54de-4d4a-853d-7c3fe5c7c88e",
   "metadata": {},
   "outputs": [],
   "source": []
  },
  {
   "cell_type": "code",
   "execution_count": 18,
   "id": "e999bdbd-29c0-45db-9dc5-dcc60eefed5e",
   "metadata": {},
   "outputs": [],
   "source": [
    "df['v_tat'] = df['v_tat'].fillna(df['v_tat'].median())\n",
    "df['c_tat'] = df['c_tat'].fillna(df['c_tat'].median())\n",
    "df['driver_ratings'] = df['driver_ratings'].fillna(df['driver_ratings'].median())\n",
    "df['customer_rating'] = df['customer_rating'].fillna(df['customer_rating'].median())\n",
    "df['payment_method'] = df['payment_method'].fillna('Unknown')\n",
    "df['incomplete_rides'] = df['incomplete_rides'].fillna('No')\n"
   ]
  },
  {
   "cell_type": "code",
   "execution_count": 19,
   "id": "a3a7ba66-f6bb-4c7c-857f-8b241bcb1c50",
   "metadata": {},
   "outputs": [],
   "source": [
    "#after the umeric columns\n",
    "df.drop_duplicates(inplace=True)"
   ]
  },
  {
   "cell_type": "code",
   "execution_count": 20,
   "id": "733eb285-c7fd-49dd-bceb-9e95b7985cc5",
   "metadata": {},
   "outputs": [],
   "source": [
    "#booking hour\n",
    "df['booking_hour'] = df['booking_datetime'].dt.hour\n"
   ]
  },
  {
   "cell_type": "code",
   "execution_count": 21,
   "id": "a94da6e7-6a0d-4878-b29e-0d2b53d0fbf2",
   "metadata": {},
   "outputs": [],
   "source": [
    "#day of week\n",
    "df['booking_day'] = df['booking_datetime'].dt.day_name()\n"
   ]
  },
  {
   "cell_type": "code",
   "execution_count": 22,
   "id": "5654fad6-094b-4301-a094-5535a6feea38",
   "metadata": {},
   "outputs": [],
   "source": [
    "#booking month\n",
    "df['booking_month'] = df['booking_datetime'].dt.month\n"
   ]
  },
  {
   "cell_type": "code",
   "execution_count": 28,
   "id": "d66c9dd3-45b9-4aeb-a618-db7da40473c8",
   "metadata": {},
   "outputs": [
    {
     "name": "stdout",
     "output_type": "stream",
     "text": [
      "Cleaned data saved as clean_ola_data.csv\n"
     ]
    }
   ],
   "source": [
    "#saving cleaned dataset\n",
    "df.to_csv('C:/Users/sharan/Documents/ola_ride_insights/data/clean_ola_data.csv', index=False)\n",
    "print(\"Cleaned data saved as clean_ola_data.csv\")\n"
   ]
  },
  {
   "cell_type": "code",
   "execution_count": 26,
   "id": "e759ad96-6e55-4ffd-9ab2-ceb11a47e099",
   "metadata": {},
   "outputs": [
    {
     "name": "stdout",
     "output_type": "stream",
     "text": [
      "<class 'pandas.core.frame.DataFrame'>\n",
      "RangeIndex: 103024 entries, 0 to 103023\n",
      "Data columns (total 21 columns):\n",
      " #   Column            Non-Null Count   Dtype         \n",
      "---  ------            --------------   -----         \n",
      " 0   date              103024 non-null  object        \n",
      " 1   time              103024 non-null  object        \n",
      " 2   booking_id        103024 non-null  object        \n",
      " 3   booking_status    103024 non-null  object        \n",
      " 4   customer_id       103024 non-null  object        \n",
      " 5   vehicle_type      103024 non-null  object        \n",
      " 6   pickup_location   103024 non-null  object        \n",
      " 7   drop_location     103024 non-null  object        \n",
      " 8   v_tat             103024 non-null  float64       \n",
      " 9   c_tat             103024 non-null  float64       \n",
      " 10  incomplete_rides  103024 non-null  object        \n",
      " 11  booking_value     103024 non-null  int64         \n",
      " 12  payment_method    103024 non-null  object        \n",
      " 13  ride_distance     103024 non-null  int64         \n",
      " 14  driver_ratings    103024 non-null  float64       \n",
      " 15  customer_rating   103024 non-null  float64       \n",
      " 16  vehicle_images    103024 non-null  object        \n",
      " 17  booking_datetime  0 non-null       datetime64[ns]\n",
      " 18  booking_hour      0 non-null       float64       \n",
      " 19  booking_day       0 non-null       object        \n",
      " 20  booking_month     0 non-null       float64       \n",
      "dtypes: datetime64[ns](1), float64(6), int64(2), object(12)\n",
      "memory usage: 16.5+ MB\n",
      "None\n",
      "date                     0\n",
      "time                     0\n",
      "booking_id               0\n",
      "booking_status           0\n",
      "customer_id              0\n",
      "vehicle_type             0\n",
      "pickup_location          0\n",
      "drop_location            0\n",
      "v_tat                    0\n",
      "c_tat                    0\n",
      "incomplete_rides         0\n",
      "booking_value            0\n",
      "payment_method           0\n",
      "ride_distance            0\n",
      "driver_ratings           0\n",
      "customer_rating          0\n",
      "vehicle_images           0\n",
      "booking_datetime    103024\n",
      "booking_hour        103024\n",
      "booking_day         103024\n",
      "booking_month       103024\n",
      "dtype: int64\n"
     ]
    }
   ],
   "source": [
    "#checking\n",
    "print(df.info())\n",
    "print(df.isnull().sum())  # should be 0!!!!\n"
   ]
  },
  {
   "cell_type": "code",
   "execution_count": null,
   "id": "abad1a59-3cd7-4674-8aa5-275a4d881d30",
   "metadata": {},
   "outputs": [],
   "source": []
  }
 ],
 "metadata": {
  "kernelspec": {
   "display_name": "Python [conda env:base] *",
   "language": "python",
   "name": "conda-base-py"
  },
  "language_info": {
   "codemirror_mode": {
    "name": "ipython",
    "version": 3
   },
   "file_extension": ".py",
   "mimetype": "text/x-python",
   "name": "python",
   "nbconvert_exporter": "python",
   "pygments_lexer": "ipython3",
   "version": "3.12.7"
  }
 },
 "nbformat": 4,
 "nbformat_minor": 5
}
